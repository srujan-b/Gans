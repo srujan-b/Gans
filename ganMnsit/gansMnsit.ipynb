{
 "cells": [
  {
   "cell_type": "code",
   "execution_count": 8,
   "id": "a2756448-1140-4c69-9eea-f768ddad0b94",
   "metadata": {},
   "outputs": [],
   "source": [
    "from keras.datasets import mnist\n",
    "from keras.layers import Input,Dense,Reshape,Flatten,BatchNormalization,LeakyReLU\n",
    "from keras.models import Sequential,Model\n",
    "from keras.optimizers import Adam\n",
    "import matplotlib.pyplot as plt\n",
    "import numpy as np"
   ]
  },
  {
   "cell_type": "code",
   "execution_count": 9,
   "id": "5a8a5377-e1f9-438a-8b26-885e08e41f53",
   "metadata": {},
   "outputs": [],
   "source": [
    "# Defining image dimensions\n",
    "\n",
    "imgRows = 28\n",
    "imgCols = 28\n",
    "channels = 1\n",
    "imgShape = (imgRows,imgCols,channels)"
   ]
  },
  {
   "cell_type": "code",
   "execution_count": 10,
   "id": "0b276af3-3e85-4432-921a-85eedb0a2725",
   "metadata": {},
   "outputs": [],
   "source": [
    "def generator():\n",
    "\n",
    "    noise_shape = (100,)\n",
    "    model = Sequential()\n",
    "\n",
    "    model.add(Dense(256,input_shape = noise_shape))\n",
    "    model.add(LeakyRelu(alpha = 0.2))\n",
    "    model.add(BatchNormalization(momentum = 0.8))\n",
    "    model.add(Dense(512))\n",
    "    model.add(LeakuRelu(alpha = 0.2))\n",
    "    model.add(BatchNormalization(momentum = 0.8))\n",
    "    model.add(Dense(1024))\n",
    "    model.add(LeakyRelu(alpha = 0.2))\n",
    "    model.add(BatchNormalization(momentum = 0.8))\n",
    "    model.add(Dense(np.prod(imgShape),activation = 'tanh'))\n",
    "    model.add(Reshape(imgShape))\n",
    "    model.summary()\n",
    "\n",
    "    noise = Input(shape = noise_shape)\n",
    "    img = model(noise)\n",
    "\n",
    "    return Model(noise, img)"
   ]
  },
  {
   "cell_type": "code",
   "execution_count": 11,
   "id": "fabb137f-8f7f-4682-8a14-5dbebc67b045",
   "metadata": {},
   "outputs": [],
   "source": [
    "def discriminator():\n",
    "\n",
    "    model = Sequntial()\n",
    "    model.add(Flatten(inputShape = imgShape))\n",
    "    model.add(Dense(512))\n",
    "    model.add(LeakyRelu(alpha=0.2))\n",
    "    model.add(Dense(256))\n",
    "    model.add(LeakyRelu(alpha=0.2))\n",
    "    model.add(Dense(1,activation = 'sigmoid'))\n",
    "    model.summary()\n",
    "    img = Input(shape = imgShape)\n",
    "    validity = model(img)\n",
    "    return Model(img,validity)\n",
    "    \n",
    "    "
   ]
  },
  {
   "cell_type": "code",
   "execution_count": null,
   "id": "a81f5b95-eab8-4288-baca-7626b10b4f69",
   "metadata": {},
   "outputs": [],
   "source": []
  }
 ],
 "metadata": {
  "kernelspec": {
   "display_name": "Python 3 (ipykernel)",
   "language": "python",
   "name": "python3"
  },
  "language_info": {
   "codemirror_mode": {
    "name": "ipython",
    "version": 3
   },
   "file_extension": ".py",
   "mimetype": "text/x-python",
   "name": "python",
   "nbconvert_exporter": "python",
   "pygments_lexer": "ipython3",
   "version": "3.10.12"
  }
 },
 "nbformat": 4,
 "nbformat_minor": 5
}
